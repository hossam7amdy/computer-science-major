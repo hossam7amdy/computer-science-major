{
 "cells": [
  {
   "cell_type": "markdown",
   "metadata": {},
   "source": [
    "![alt text](./images/progit.jpeg)"
   ]
  },
  {
   "cell_type": "markdown",
   "metadata": {},
   "source": [
    "## The Pro Git book is available free to read online\n",
    "**[Pro Git](https://www.git-scm.com/book/en/v2)**"
   ]
  },
  {
   "cell_type": "markdown",
   "metadata": {},
   "source": [
    "# 1. Getting Started"
   ]
  },
  {
   "cell_type": "markdown",
   "metadata": {},
   "source": [
    "> - Local Version Control (LVC)\n",
    "> - Central Version Control (CVC)\n",
    "> - Distributed Version Control (DVC)\n",
    "\n"
   ]
  },
  {
   "cell_type": "markdown",
   "metadata": {},
   "source": [
    "## Local Version Control Systems"
   ]
  },
  {
   "cell_type": "markdown",
   "metadata": {},
   "source": [
    "<img src=\"./images/git1.png\" alt=\"drawing\" width=\"500\" align=\"left\"/>\n",
    "<!--\n",
    "![alt text](./images/git1.png?raw=true)\n",
    "-->"
   ]
  },
  {
   "cell_type": "markdown",
   "metadata": {},
   "source": [
    "## Centeral Version Control Systems"
   ]
  },
  {
   "cell_type": "markdown",
   "metadata": {},
   "source": [
    "<img src=\"./images/git2.jpg\" alt=\"drawing\" width=\"500\" align=\"left\"/>\n",
    "<!-- ![alt text](./images/git2.jpg?raw=true) -->"
   ]
  },
  {
   "cell_type": "markdown",
   "metadata": {},
   "source": [
    "## Distributed Version Control Systems"
   ]
  },
  {
   "cell_type": "markdown",
   "metadata": {},
   "source": [
    "<img src=\"./images/git3.jpg\" alt=\"drawing\" width=\"500\" align=\"left\"/>\n",
    "<!-- ![alt text](./images/git3.jpg) -->"
   ]
  },
  {
   "cell_type": "markdown",
   "metadata": {},
   "source": [
    "## A Short History of Git"
   ]
  },
  {
   "cell_type": "markdown",
   "metadata": {},
   "source": [
    "### A Short History of Git\n",
    "> 2002 Linux Kerner in BitKeepers  \n",
    "> 2005 From BitKeepers to Git  \n",
    "> - Speed\n",
    "> - Simple design\n",
    "> - Support for non-linear development\n",
    "> - Distributed\n",
    "> - Scalable"
   ]
  },
  {
   "cell_type": "markdown",
   "metadata": {},
   "source": [
    "## Git Basics\n",
    "> - Differnt than others (eg Subversion or Perforce)  \n",
    "> - Snapshots Not Differences"
   ]
  },
  {
   "cell_type": "markdown",
   "metadata": {},
   "source": [
    "<img src=\"./images/git4.jpg\" alt=\"drawing\" width=\"700\" align=\"left\"/>\n",
    "<!--\n",
    "![alt text](./images/git4.jpg)\n",
    "-->"
   ]
  },
  {
   "cell_type": "markdown",
   "metadata": {},
   "source": [
    "<img src=\"./images/git5.jpg\" alt=\"drawing\" width=\"700\" align=\"left\"/>\n",
    "<!-- \n",
    "![alt text](./images/git5.jpg)\n",
    "-->"
   ]
  },
  {
   "cell_type": "markdown",
   "metadata": {},
   "source": [
    "## Git is different\n",
    "> - Nearly Eveything is Local\n",
    "> - Git Has Integrity\n",
    "> - Git Generally Only Adds Data\n",
    "> - The Three States"
   ]
  },
  {
   "cell_type": "markdown",
   "metadata": {},
   "source": [
    "<img src=\"./images/git6.jpg\" alt=\"drawing\" width=\"700\" align=\"left\"/>\n",
    "<!--\n",
    "![alt text](./images/git6.jpg)\n",
    "-->"
   ]
  },
  {
   "cell_type": "markdown",
   "metadata": {},
   "source": [
    "### The Command Line (Cli vs GUI)"
   ]
  },
  {
   "cell_type": "markdown",
   "metadata": {},
   "source": [
    "## Installing Git"
   ]
  },
  {
   "cell_type": "markdown",
   "metadata": {},
   "source": [
    "``$ apt-get install git``\n",
    "\n",
    "http://git-scm.com/download/linux"
   ]
  },
  {
   "cell_type": "code",
   "execution_count": null,
   "metadata": {},
   "outputs": [],
   "source": [
    "!sudo apt install git"
   ]
  },
  {
   "cell_type": "code",
   "execution_count": null,
   "metadata": {},
   "outputs": [],
   "source": [
    "!git --version #Check the current version of Git"
   ]
  },
  {
   "cell_type": "markdown",
   "metadata": {},
   "source": [
    "## First-Time Git Setup"
   ]
  },
  {
   "cell_type": "markdown",
   "metadata": {},
   "source": [
    "### Identity\n",
    "> ```$ git config --global user.name \"John Doe\"```  \n",
    "> ``$ git config --global user.email johndoe@example.com``  \n",
    "\n",
    "### Configurations\n",
    "  \n",
    "> - ``$ git config --global`` # User (global) -> ~/.gitconfig  \n",
    "> - ``$ git config --system`` # System -> /etc/gitconfig  \n",
    "> - ``$ git config ``         # Project -> <project>/.git/conifg  \n",
    "\n",
    "### Text Editor\n",
    "> ```$ git config --global core.editor vi [or code 🙂]```\n",
    "\n",
    "### Color Output\n",
    "> ``$ git config --global color.ui true``"
   ]
  },
  {
   "cell_type": "code",
   "execution_count": null,
   "metadata": {},
   "outputs": [],
   "source": [
    "!git config --global user.name \"John Doe\""
   ]
  },
  {
   "cell_type": "code",
   "execution_count": null,
   "metadata": {},
   "outputs": [],
   "source": [
    "!git config --global user.email johndoe@example.com"
   ]
  },
  {
   "cell_type": "code",
   "execution_count": null,
   "metadata": {},
   "outputs": [],
   "source": [
    "!git config --global core.editor vi # or vim,vi,code, etc."
   ]
  },
  {
   "cell_type": "code",
   "execution_count": null,
   "metadata": {},
   "outputs": [],
   "source": [
    "# Check your settings\n",
    "!git config --list # or git config user.name , etc."
   ]
  },
  {
   "cell_type": "markdown",
   "metadata": {},
   "source": [
    "***"
   ]
  },
  {
   "cell_type": "markdown",
   "metadata": {},
   "source": [
    "# 2. Git Basics"
   ]
  },
  {
   "cell_type": "markdown",
   "metadata": {},
   "source": [
    "> - Configure and initialize a repository  \n",
    "> - Begin and stop tracking files and stage and commit changes  \n",
    "> - Set up Git to ignore certain files and file patterns  \n",
    "> - Undo mistakes quickly and easily  \n",
    "> - Browse the history of your project   \n",
    "> - View changes between commits  \n",
    "> - Push and pull from remote repositories  "
   ]
  },
  {
   "cell_type": "markdown",
   "metadata": {},
   "source": [
    "## Getting a Git Repository"
   ]
  },
  {
   "cell_type": "markdown",
   "metadata": {},
   "source": [
    "### Initializing a Repository in an Existing Directory"
   ]
  },
  {
   "cell_type": "code",
   "execution_count": null,
   "metadata": {},
   "outputs": [],
   "source": [
    "# Make sure you are at the right top level directory\n",
    "!git init"
   ]
  },
  {
   "cell_type": "markdown",
   "metadata": {},
   "source": [
    "### The code base goes like this\n",
    "> ``$ cd /path/to/my/codebase``  \n",
    "> ``$ git init``  \n",
    "> ``$ git add .``  \n",
    "> ``$ git commit``"
   ]
  },
  {
   "cell_type": "markdown",
   "metadata": {},
   "source": [
    "So far nothing is tracked. To start tracking you must specifiy what to track in the directory using ``git add``.   \n",
    "Examples:  \n",
    "``$ git add *.py``   # only track files with .py extensions  \n",
    "or  \n",
    "``$ git add .``     # track everything  \n",
    "``$ git README``    # only track the file called README"
   ]
  },
  {
   "cell_type": "markdown",
   "metadata": {},
   "source": [
    "### Cloning an Existing Repository"
   ]
  },
  {
   "cell_type": "markdown",
   "metadata": {},
   "source": [
    "Cloning downloads everything with history!  \n",
    "It also initializes the local repo by copying the .git folder from remote:  \n",
    "``$ git clone https://github.com/libgit2/libgit2``  \n",
    "\n",
    "To create a new directory for the cloned repo:  \n",
    "``$ git clone https://github.com/libgit2/libgit2 myLibgit``"
   ]
  },
  {
   "cell_type": "code",
   "execution_count": null,
   "metadata": {},
   "outputs": [],
   "source": [
    "!git clone https://github.com/libgit2/libgit2"
   ]
  },
  {
   "cell_type": "markdown",
   "metadata": {},
   "source": [
    "## Recording Changes to the Repository"
   ]
  },
  {
   "cell_type": "markdown",
   "metadata": {},
   "source": [
    "**Remember!**  \n",
    "Each file is:\n",
    "- _Untracked_: (Git does not care about it but will keep alerting you)\n",
    "- _Tracked_:  \n",
    "    - Unmodified (Either never changed since tracked, or commited and never changed afterwards)\n",
    "    - Modified (Either doesn't have a snapshot or been changed since last commit)\n",
    "    - Staged (Had some changes and ready to be committed)"
   ]
  },
  {
   "cell_type": "markdown",
   "metadata": {},
   "source": [
    "<img src=\"./images/git7.jpg\" alt=\"drawing\" width=\"700\" align=\"left\"/>\n",
    "<!--\n",
    "![alt text](./images/git7.jpg)\n",
    "-->"
   ]
  },
  {
   "cell_type": "markdown",
   "metadata": {},
   "source": [
    "## Checking the Status of Your Files"
   ]
  },
  {
   "cell_type": "markdown",
   "metadata": {},
   "source": [
    "**Check the status of the file by:**  \n",
    "``$ git status``  \n",
    "``$ git status -s``  "
   ]
  },
  {
   "cell_type": "code",
   "execution_count": null,
   "metadata": {},
   "outputs": [],
   "source": [
    "!git status"
   ]
  },
  {
   "cell_type": "markdown",
   "metadata": {},
   "source": [
    "## Tracking New Files"
   ]
  },
  {
   "cell_type": "markdown",
   "metadata": {},
   "source": [
    "``$ git add README``"
   ]
  },
  {
   "cell_type": "code",
   "execution_count": null,
   "metadata": {},
   "outputs": [],
   "source": [
    "!git add README"
   ]
  },
  {
   "cell_type": "markdown",
   "metadata": {},
   "source": [
    "## Staging Modified Files"
   ]
  },
  {
   "cell_type": "markdown",
   "metadata": {},
   "source": [
    "**What happens when you modify a staged (not yet committed) file?**  \n",
    "**What options do we have?**"
   ]
  },
  {
   "cell_type": "markdown",
   "metadata": {},
   "source": [
    "## Ignoring Files"
   ]
  },
  {
   "cell_type": "markdown",
   "metadata": {},
   "source": [
    "- **Use .gitgnore file**  \n",
    "- **Use RegEx or glob patterns** \n",
    "- Examples:\n",
    "    - \\# a comment - this is ignored\n",
    "    - *.a       # no .a files\n",
    "    - !lib.a    # but do track lib.a, even though you're ignoring .a files above\n",
    "    - /TODO     # only ignore the root TODO file, not subdir/TODO\n",
    "    - build/    # ignore all files in the build/ directory\n",
    "    - doc/*.txt # ignore doc/notes.txt, but not doc/server/arch.txt\n",
    "\n",
    "- More templates for different languages are in [This GitHub Repo](https://github.com/github/gitignore)\n"
   ]
  },
  {
   "cell_type": "markdown",
   "metadata": {},
   "source": [
    "## What has changed?"
   ]
  },
  {
   "cell_type": "markdown",
   "metadata": {},
   "source": [
    "To see the changes between WD, Staged and Committed use ``git diff``  \n",
    "\n",
    "> ``$ git diff # To show differences between WD and staged area``  \n",
    "> ``$ git diff --cached # To show differencce between staged and Commiited``  \n",
    "\n",
    "### Show changes between Commits (Compare commits)\n",
    "> ``$ git diff <begincommitrefs>..<endcommitrefs> --color-words`` # Refs is the SHA of the commit"
   ]
  },
  {
   "cell_type": "code",
   "execution_count": null,
   "metadata": {
    "scrolled": false
   },
   "outputs": [],
   "source": [
    "!git diff "
   ]
  },
  {
   "cell_type": "markdown",
   "metadata": {},
   "source": [
    "## Committing Your Changes "
   ]
  },
  {
   "cell_type": "markdown",
   "metadata": {},
   "source": [
    "``$ git commit`` # this will launch the editor you chose earlier  \n",
    "``$ git commit -m \"<msg>\"`` # this will commit using the provided message  \n",
    "\n",
    "**Remember** that git commit will record changes in the staging area only.  \n",
    "Any modified but not staged files will remain the same"
   ]
  },
  {
   "cell_type": "markdown",
   "metadata": {},
   "source": [
    "## Skipping the Staging Area "
   ]
  },
  {
   "cell_type": "markdown",
   "metadata": {},
   "source": [
    "``$ git commit -a -m \"<msg>\"``"
   ]
  },
  {
   "cell_type": "markdown",
   "metadata": {},
   "source": [
    "## Removing Files "
   ]
  },
  {
   "cell_type": "markdown",
   "metadata": {},
   "source": [
    "``$ git rm <filename> # removes file from tracking and from filesystem``  \n",
    "``$ git rm --cached <file> # removes file from staging (i.e. unstaging file)``  \n",
    "\n",
    "**Remember** that even operations on the file level need to be committed!"
   ]
  },
  {
   "cell_type": "markdown",
   "metadata": {},
   "source": [
    "## Moving Files"
   ]
  },
  {
   "cell_type": "markdown",
   "metadata": {},
   "source": [
    "Git doesn’t explicitly track file movement. If you rename a file in Git,  \n",
    "no metadata is stored in Git that tells it you renamed the file ☹️​  \n",
    "\n",
    "``$ git mv file_from file_to``"
   ]
  },
  {
   "cell_type": "markdown",
   "metadata": {},
   "source": [
    "## Viewing the Commit History"
   ]
  },
  {
   "cell_type": "markdown",
   "metadata": {},
   "source": [
    "**Very simple!**  \n",
    "> ``$ git log``  \n",
    "\n",
    "Some formatting could be useful when you have a long complex history.  \n",
    "Try cloning the following repo and check its commit history.  \n",
    "> ``$ git clone https://github.com/schacon/simplegit-progit``  \n",
    "\n",
    "**Try:**  \n",
    "> ``$ git log -p -2``  \n",
    "> ``$ git log --stat``  \n",
    "> ``$ git log --pretty=oneline``  \n",
    "> ``$ git log --pretty=format:\"%h - %an, %ar : %s\"``  \n",
    "> ``$ git log --pretty=format:\"%h %s\" --graph``  \n",
    "\n",
    "\n",
    "**Limiting Log Output**\n",
    "> ``$ git log --since=2.weeks``\n",
    "\n",
    "**Show Commit**  \n",
    "> ``$ git show <commitrefs>`` # Refs is the SHA of the commit  "
   ]
  },
  {
   "cell_type": "markdown",
   "metadata": {},
   "source": [
    "## Undoing Things"
   ]
  },
  {
   "cell_type": "markdown",
   "metadata": {},
   "source": [
    "### Change the most recent Commit\n",
    "**If you forgot to add files or messed up the commit message**  \n",
    "> ``$ git commit --amend``  \n",
    "\n",
    "**The following results in a single commit**  \n",
    "> ``$ git commit -m 'initial commit'``  \n",
    "> ``$ git add forgotten_file``  \n",
    "> ``$ git commit --amend``  \n",
    "\n",
    "### Untracking tracked file\n",
    "> ``$ git rm --cached <filename>``  \n",
    "\n",
    "### Unstaging staged file  \n",
    "**NOT RESTORING A PREVIOUS VERIOSN!**  \n",
    "> ``$ git restore --staged <filenmame>`` # recent command  \n",
    "> ``$ git reset HEAD <filenmame>`` # old command but still works so far  \n",
    "\n",
    "### Unmodifying a Modified File  \n",
    "**REVERTING IT FROM THE LAST COMMIT**  \n",
    "> ``$ git restore <filename>``\n",
    "    \n",
    "### Restore (revert) a committed change  \n",
    "**This will revert everything committed in a specific commit. That's why it's better to have atomic commits**\n",
    "> ``$ git revert <commitrefs>``  \n",
    "\n",
    "### Deleted Files!\n",
    "**Deleted a file but not committed**  \n",
    "> ``$ git checkout HEAD <filename>``  \n",
    "\n",
    "**Deleted a file and committed**\n",
    "> ``$ git reset --hard HEAD~1``  "
   ]
  },
  {
   "cell_type": "markdown",
   "metadata": {},
   "source": [
    "## Working with Remotes"
   ]
  },
  {
   "cell_type": "markdown",
   "metadata": {},
   "source": [
    "### Showing Your Remotes  \n",
    "> ``$ git clone https://github.com/schacon/ticgit``  \n",
    "> ``$ git remote``  \n",
    "> ``$ git remote -v``  \n",
    "\n",
    "### Add a remote to an existing repo  \n",
    "> ``$ git remote add [shortname] [url]``\n",
    "\n",
    "### Fetching from Remote \n",
    "fetches any new work that has been pushed to  \n",
    "that server since you cloned (or last fetched from) it**  \n",
    "\n",
    "> ``$ git fetch [remote-name]``  \n",
    "\n",
    "**IMPORTANT: Fetch doesn’t automatically merge it with any  \n",
    "of your work or modify what you’re currently working on.  \n",
    "You have to merge it manually into your work when you’re ready.**  \n",
    "\n",
    "### Pushing to Your Remotes  \n",
    "**Means uploading any changes you have made to the remote that**  \n",
    "> ``$ git push [remote-name] [branch-name]``"
   ]
  },
  {
   "cell_type": "markdown",
   "metadata": {},
   "source": [
    "### Inspecting a Remote\n",
    "**See more information about a particular remote**  \n",
    "> ``$ git remote show [remote-name]``  \n",
    "> ``$ git remote show origin``  "
   ]
  },
  {
   "cell_type": "markdown",
   "metadata": {},
   "source": [
    "### Removing and Renaming Remotes\n",
    "> ``$ git remote rename [current-remote-name] [new-remote-name]``  \n",
    "\n",
    "**If you want to remove a remote for some reason—you’ve moved  \n",
    "the server or are no longer using a particular mirror,  \n",
    "or perhaps a contributor isn’t contributing anymore**  \n",
    "> ``$ git remote rm [remote-name]``  \n",
    "\n",
    "### Inspecting a Remote\n",
    "**see more information about a particular remote**  \n",
    "> ``$ git remote show [remote-name]``  \n",
    "> ``$ git remote show origin`` "
   ]
  },
  {
   "cell_type": "markdown",
   "metadata": {},
   "source": [
    "## Tagging"
   ]
  },
  {
   "cell_type": "markdown",
   "metadata": {},
   "source": [
    "**Tagging is like marking a specific commit at a specific  \n",
    "point in history. Typically used to mark release points**  \n",
    "(e.g. v1.0, v1.5, etc.)"
   ]
  },
  {
   "cell_type": "markdown",
   "metadata": {},
   "source": [
    "### Listing your tags\n",
    "> ``$ git tag``  \n",
    "\n",
    "### Creating Tags\n",
    "**Two types of tags:**  \n",
    "- Lightweight: very much like a branch that doesn’t change—it’s just a pointer to a specific commit.\n",
    "- Annotated: stored as full objects in the Git database.  \n",
    "\n",
    "### Annotated Tags \n",
    "**can be created when committing**  \n",
    "> ``$ git tag -a <version> -m \"<msg>\"``  \n",
    "> ``$ git show <version>``  \n",
    "\n",
    "### Lightweight Tags\n",
    "**Just a commit checksum added to a file, no more info stored.**  \n",
    "> ``$ git tag <version>``  \n",
    "> ``$ git show <version>``"
   ]
  },
  {
   "cell_type": "markdown",
   "metadata": {},
   "source": [
    "### Tagging Later \n",
    "**If you have some previous commits and you forgot to tag  \n",
    "you can later on tag a previous commit by referring  \n",
    "to its checksum**  \n",
    "> ``$ git tag -a <version> [commit-checksum]``  \n",
    "\n",
    "**Remember that you can retrieve the commits checkshum by using the following**\n",
    "> ``$ git log --pretty=oneline``  \n",
    "\n",
    "### Sharing Tags \n",
    "**By default git push doesn't push tags. You mush specify**  \n",
    "> ``$ git push [remote-name] [tagname]``"
   ]
  },
  {
   "cell_type": "markdown",
   "metadata": {},
   "source": [
    "********"
   ]
  },
  {
   "cell_type": "markdown",
   "metadata": {},
   "source": [
    "## 3. Git Branching"
   ]
  },
  {
   "cell_type": "markdown",
   "metadata": {},
   "source": [
    "### Revise how Git stores data\n",
    "<img src=\"./images/git8.jpg\" alt=\"drawing\" width=\"700\" align=\"left\"/>  \n",
    "\n",
    "\n"
   ]
  },
  {
   "cell_type": "markdown",
   "metadata": {},
   "source": [
    "**A branch in Git is simply a lightweight movable pointer to one of these commits.** "
   ]
  },
  {
   "cell_type": "markdown",
   "metadata": {},
   "source": [
    "<img src=\"./images/git9.jpg\" alt=\"drawing\" width=\"700\" align=\"left\"/>"
   ]
  },
  {
   "cell_type": "markdown",
   "metadata": {},
   "source": [
    "### Creating a New Branch"
   ]
  },
  {
   "cell_type": "markdown",
   "metadata": {},
   "source": [
    "### To create a new branch without switching to it  \n",
    "``$ git branch testing``"
   ]
  },
  {
   "cell_type": "markdown",
   "metadata": {},
   "source": [
    "<img src=\"./images/git10.jpg\" alt=\"drawing\" width=\"700\" align=\"left\"/>"
   ]
  },
  {
   "cell_type": "markdown",
   "metadata": {},
   "source": [
    "**After creating the branch without switching to it the HEAD pointer will still be pointing at the current branch**  \n",
    "<img src=\"./images/git11.jpg\" alt=\"drawing\" width=\"700\" align=\"left\"/>"
   ]
  },
  {
   "cell_type": "code",
   "execution_count": null,
   "metadata": {},
   "outputs": [],
   "source": [
    "# Typical code\n",
    "!cd /.git/refs/heads # A file for each branch, currently only a file named 'master'\n",
    "!git branch testing  # A new branch called 'testing' is created\n",
    "!git branch          # list all existing branches\n",
    "!git show HEAD       # will show that the current HEAD points to both branches master and testing\n",
    "!ls .git/refs/heads # now the directory has two files: master and testing\n",
    "!git log --oneline --decorate # to see where the HEAD is currently pointing at, for now it should point at both branches"
   ]
  },
  {
   "cell_type": "markdown",
   "metadata": {},
   "source": [
    "### Switching Branches\n",
    "``$ git switch <branch-name>`` # The new command starting 2.23  \n",
    "``$ git checkout <branch-name>`` # The old command  \n",
    "\n",
    "**Switching to another branch simply moves the HEAD poiter to that branch**  \n",
    "<img src=\"./images/git12.jpg\" alt=\"drawing\" width=\"700\" align=\"left\"/>"
   ]
  },
  {
   "cell_type": "markdown",
   "metadata": {},
   "source": [
    "**While by default the new branch will start at the current revision you can still create a new branch at a previous revision by adding the revision's sha at the end of the command**\n",
    "``git branch <branch-name> <SHA>``"
   ]
  },
  {
   "cell_type": "code",
   "execution_count": null,
   "metadata": {},
   "outputs": [],
   "source": [
    "!git switch testing # to switch to testing branch\n",
    "# do some change to any file in the working tree\n",
    "!git commit -am \"A first commit to the testing branch\" # A commit is made and the HEAD pointer will point at testing only\n",
    "!git log --oneline # make sure that now HEAD points at testing only\n",
    "!git switch master # switch back to master\n",
    "!git log --online # now HEAD points at master only\n",
    "!git log --all --online #  '--all' easier to show the log for all branchers regardless of the current branch\n"
   ]
  },
  {
   "cell_type": "markdown",
   "metadata": {},
   "source": [
    "<img src=\"./images/git13.jpg\" alt=\"drawing\" width=\"700\" align=\"left\"/>"
   ]
  },
  {
   "cell_type": "markdown",
   "metadata": {},
   "source": [
    "**IMPORTANT: switching to a different branch not only moves the HEAD pointer to that branch but also reverts the contents of the working tree to that point in time. Moving the HEAD is like rewinding**\n"
   ]
  },
  {
   "cell_type": "code",
   "execution_count": null,
   "metadata": {},
   "outputs": [],
   "source": [
    "# To watch the HEAD movement in action try this\n",
    "!git switch testing # Switch to testing branch\n",
    "# Change something in README.txt\n",
    "!git commit -am \"Changes README.txt\" # commit the changes\n",
    "!git switch master # switch back to master branch\n",
    "# Check the README file and make sure it was reverted back\n"
   ]
  },
  {
   "cell_type": "markdown",
   "metadata": {},
   "source": [
    "### Divergent History\n",
    "\n",
    "> 1. Created and switched to a branch  \n",
    "> 2. Did some work on it  \n",
    "> 3. Switched back to your main branch  \n",
    "> 4. Did other work  \n",
    "\n",
    "**Both of those changes are isolated in separate branches**\n",
    "<img src=\"./images/git14.jpg\" alt=\"drawing\" width=\"700\" align=\"left\"/>"
   ]
  },
  {
   "cell_type": "code",
   "execution_count": null,
   "metadata": {},
   "outputs": [],
   "source": [
    "#print out the history of your commits, showing where your branch pointers are and how your history has diverged.\n",
    "!git log --oneline --decorate --graph --all "
   ]
  },
  {
   "cell_type": "markdown",
   "metadata": {},
   "source": [
    "## Merging"
   ]
  },
  {
   "cell_type": "code",
   "execution_count": 1,
   "metadata": {},
   "outputs": [],
   "source": [
    "# do some changes to a file then commit it (c0 is the initial commit, c1 and c2 are two subsequent commits)\n",
    "# now the current branch is master and HEAD points to it at C2"
   ]
  },
  {
   "cell_type": "markdown",
   "metadata": {},
   "source": [
    "<img src=\"./images/git15.jpg\" alt=\"drawing\" width=\"700\" align=\"left\"/>"
   ]
  },
  {
   "cell_type": "code",
   "execution_count": null,
   "metadata": {},
   "outputs": [],
   "source": [
    "!git checkout -b iss53 #creates a branch called iss53 and switches to it\n",
    "# now the both branches are at C2 and the HEAD is now pointing to iss53"
   ]
  },
  {
   "cell_type": "markdown",
   "metadata": {},
   "source": [
    "<img src=\"./images/git16.jpg\" alt=\"drawing\" width=\"700\" align=\"left\"/>"
   ]
  },
  {
   "cell_type": "code",
   "execution_count": 2,
   "metadata": {},
   "outputs": [],
   "source": [
    "# do some change to the file and commit \n",
    "# now the iss53 branch is at C3 and the master branch is left at C2 and the HEAD is still pointing to iss53"
   ]
  },
  {
   "cell_type": "markdown",
   "metadata": {},
   "source": [
    "<img src=\"./images/git17.jpg\" alt=\"drawing\" width=\"800\" align=\"left\"/>"
   ]
  },
  {
   "cell_type": "code",
   "execution_count": null,
   "metadata": {},
   "outputs": [],
   "source": [
    "!git checkout master # switches back to master branch\n",
    "!git checkout -b hotfix # creates a new branch called hotfix and switches to it\n",
    "# now the current branch is hotfix and it's at C4, master is still left at C2 and the HEAD points to hotfix"
   ]
  },
  {
   "cell_type": "markdown",
   "metadata": {},
   "source": [
    "<img src=\"./images/git18.jpg\" alt=\"drawing\" width=\"800\" align=\"left\"/>"
   ]
  },
  {
   "cell_type": "code",
   "execution_count": null,
   "metadata": {},
   "outputs": [],
   "source": [
    "!git checkout master # switches back to master\n",
    "!git merge hotfix \n",
    "# merges hotfix branch with master, in other words fast-forwards master to C4 commit and the HEAD now points at master"
   ]
  },
  {
   "cell_type": "markdown",
   "metadata": {},
   "source": [
    "<img src=\"./images/git19.jpg\" alt=\"drawing\" width=\"800\" align=\"left\"/>"
   ]
  },
  {
   "cell_type": "code",
   "execution_count": null,
   "metadata": {},
   "outputs": [],
   "source": [
    "!git branch -d hotfix # -d option deletes the branch hotfix as it's no longer needed\n",
    "!git checkout iss53 # switches back to branch iss53 to continue working on the issue\n",
    "# do some changes\n",
    "!git commit -am \"some changes committed at iss53\" # commit them, now you have C5 where iss53 branch is currently at\n"
   ]
  },
  {
   "cell_type": "markdown",
   "metadata": {},
   "source": [
    "<img src=\"./images/git20.jpg\" alt=\"drawing\" width=\"800\" align=\"left\"/>"
   ]
  },
  {
   "cell_type": "markdown",
   "metadata": {},
   "source": [
    "**Now what happens if you want to merge iss53 branch into master?**  \n",
    "**It is not the same as what we did with hotfix as now the current commits (C5 in iss53 and C4 in master) don't have the same ancestor**"
   ]
  },
  {
   "cell_type": "markdown",
   "metadata": {},
   "source": [
    "<img src=\"./images/git21.jpg\" alt=\"drawing\" width=\"800\" align=\"left\"/>"
   ]
  },
  {
   "cell_type": "markdown",
   "metadata": {},
   "source": [
    "**Instead of just moving the branch pointer forward, Git creates a new snapshot that results from this three-way merge and automatically creates a new commit that points to it. This is referred to as a merge commit, and is special in that it has more than one parent.**"
   ]
  },
  {
   "cell_type": "code",
   "execution_count": null,
   "metadata": {},
   "outputs": [],
   "source": [
    "!git checkout master\n",
    "!git merge iss53"
   ]
  },
  {
   "cell_type": "markdown",
   "metadata": {},
   "source": [
    "<img src=\"./images/git22.jpg\" alt=\"drawing\" width=\"800\" align=\"left\"/>"
   ]
  },
  {
   "cell_type": "code",
   "execution_count": null,
   "metadata": {},
   "outputs": [],
   "source": [
    "!git branch -d iss53 # now you can delete the iss53 branch as it's no longer needed"
   ]
  },
  {
   "cell_type": "markdown",
   "metadata": {},
   "source": [
    "### Merge Conflicts"
   ]
  },
  {
   "cell_type": "markdown",
   "metadata": {},
   "source": [
    "**If you try to do merge commit with conflicting files in both branches git will notify you and abort the process**\n",
    "**To check the conflicting portions of the file use ``git status`` then resolve the conflict then commit then merge again**"
   ]
  },
  {
   "cell_type": "code",
   "execution_count": null,
   "metadata": {},
   "outputs": [],
   "source": [
    "!git branch -v # to list all branches along with the last commit per each branch. * character indicates the current HEAD pointer"
   ]
  },
  {
   "cell_type": "code",
   "execution_count": null,
   "metadata": {},
   "outputs": [],
   "source": [
    "!git branch --merged # to view branches already merged with the current branch\n",
    "!git branch --no-merged # list all branches that aren't merged with the current\n",
    "!git branch -d testing # will attempt to delete the testing branch but will fail if it has unmerged work\n",
    "!git branch -D testing # will forcibly delete the testing branch even if it has unmerged work\n",
    "!git branch --move bad-branch-name corrected-branch-name # rename a branch. CAREFUL not to rename a branch currently shared\n",
    "!git branch --move master main # you can also rename the master branch as it is exactly similar to any other branch"
   ]
  },
  {
   "cell_type": "markdown",
   "metadata": {},
   "source": [
    "### Remote Branches"
   ]
  },
  {
   "cell_type": "code",
   "execution_count": null,
   "metadata": {},
   "outputs": [],
   "source": [
    "# Walkthrough demo for remote branch workflow and (fethc, pull, push)\n",
    "\n",
    "# 1. Create remote project with 3 commits\n",
    "!git mkdir ~/remotegit \n",
    "!cd ~/remotegit\n",
    "\n",
    "## Add line and commit\n",
    "!echo \"This is the first line in the file create at the remote master branch\" >> file.txt\n",
    "!git init\n",
    "!git add .\n",
    "!git commit -m \"Initial Commit\"\n",
    "\n",
    "## Add line and commit\n",
    "!echo \"Second line in file at remote master branch\" >> file.txt\n",
    "!git add .\n",
    "!git commit -m \"Second commit after adding line 2\"\n",
    "\n",
    "## Add line and commit\n",
    "!echo \"Third line in file at remote master branch\" >> file.txt\n",
    "!git add .\n",
    "!git commit -m \"Third commit after adding line 2\"\n",
    "\n",
    "## List commits. You should see 3 commits at master branch\n",
    "!git log --oneline\n"
   ]
  },
  {
   "cell_type": "code",
   "execution_count": null,
   "metadata": {},
   "outputs": [],
   "source": [
    "# 2. Clone the \"remote\" branch and rename the local clone to localgit\n",
    "!cd ~\n",
    "!git clone ~/remotegit localgit\n",
    "!cd ~/localgit\n",
    "\n",
    "## List the current commits after cloning, you should see 3 commits with the exact SHA as the remote\n",
    "!git log --oneline\n"
   ]
  },
  {
   "cell_type": "markdown",
   "metadata": {},
   "source": [
    "<img src=\"./images/git23.jpg\" alt=\"drawing\" width=\"800\" align=\"left\"/>"
   ]
  },
  {
   "cell_type": "code",
   "execution_count": null,
   "metadata": {},
   "outputs": [],
   "source": [
    "# 3. Make changes to the master branches in both repos at the same time\n",
    "\n",
    "# Change the remote master branch\n",
    "!cd ~/remotegit\n",
    "!echo \"First line at the remote master branch after cloning\" >> file.txt\n",
    "!git add .\n",
    "!git commit -m \"First commit at remote branch after cloning\"\n",
    "\n",
    "# Repeat one more time\n",
    "!echo \"Second line at the remote master branch after cloning\" >> file.txt\n",
    "!git add .\n",
    "!git commit -m \"Second commit at remote branch after cloning\""
   ]
  },
  {
   "cell_type": "code",
   "execution_count": null,
   "metadata": {},
   "outputs": [],
   "source": [
    "# List the current commits: you should be able to see 5 entries\n",
    "!git log --oneline"
   ]
  },
  {
   "cell_type": "code",
   "execution_count": null,
   "metadata": {},
   "outputs": [],
   "source": [
    "# Change the local master branch\n",
    "!cd ~/localgit\n",
    "!echo \"First line at the local master branch after cloning\" >> file.txt\n",
    "!git add .\n",
    "!git commit -m \"First commit at local branch after cloning\"\n",
    "\n",
    "# Repeat one more time\n",
    "!echo \"Second line at the local master branch after cloning\" >> file.txt\n",
    "!git add .\n",
    "!git commit -m \"Second commit at local branch after cloning\""
   ]
  },
  {
   "cell_type": "code",
   "execution_count": null,
   "metadata": {},
   "outputs": [],
   "source": [
    "# List the current commits: you should be able to see 5 entries\n",
    "# Notice the origin/master and origin/HEAD still points at the inital location after cloning\n",
    "!git log --oneline"
   ]
  },
  {
   "cell_type": "markdown",
   "metadata": {},
   "source": [
    "<img src=\"./images/git24.jpg\" alt=\"drawing\" width=\"800\" align=\"left\"/>"
   ]
  },
  {
   "cell_type": "code",
   "execution_count": null,
   "metadata": {},
   "outputs": [],
   "source": [
    "# 4. Synchronize work in local with changes make at the remote repo (origin) by git fetch\n",
    "\n",
    "!git fetch origin"
   ]
  },
  {
   "cell_type": "code",
   "execution_count": null,
   "metadata": {},
   "outputs": [],
   "source": [
    "# verify that the local log now has new references as in remote\n",
    "# now you should see 7 refs: 3 original + 2 from remote + 2 from local\n",
    "# can you understand the graph?\n",
    "\n",
    "!git log --oneline --all --graph"
   ]
  },
  {
   "cell_type": "markdown",
   "metadata": {},
   "source": [
    "<img src=\"./images/git25.jpg\" alt=\"drawing\" width=\"800\" align=\"left\"/>"
   ]
  },
  {
   "cell_type": "code",
   "execution_count": null,
   "metadata": {},
   "outputs": [],
   "source": [
    "# Check the file in the local repo and make sure it hasn't changed despite the git fetch\n",
    "!cat ~/localrepo/file.txt\n",
    "\n",
    "# To harden the changes made remotely to the work tree you will need to merge the remote master into the local master\n",
    "# If you want to fetch and merge in the same time you should use git pull"
   ]
  },
  {
   "cell_type": "code",
   "execution_count": null,
   "metadata": {},
   "outputs": [],
   "source": [
    "# 5. Create a local branch and push it to remote (synchronize upstream)\n",
    "\n",
    "!git checkout -b serverfix \n",
    "!echo \"First line in file at local serverfix branch\" >> file.txt\n",
    "!git commit -am \"First commit at local serverfix branch\"\n"
   ]
  },
  {
   "cell_type": "code",
   "execution_count": null,
   "metadata": {},
   "outputs": [],
   "source": [
    "# Synchronize (push) local branch to remote\n",
    "!git push origin serverfix\n",
    "!cd ~/remotegit\n",
    "!git log --oneline # this won't show anything new as you must use --all to be able to see other branches\n",
    "!git log --oneline --all \n",
    "# now you should be able to see the new serverfix branch and it's line of refs connecting to \n",
    "# the common ancestor at the remote master branch"
   ]
  },
  {
   "cell_type": "code",
   "execution_count": null,
   "metadata": {},
   "outputs": [],
   "source": [
    "# You can also get a summary by using git branch -v\n",
    "!git branch -v"
   ]
  },
  {
   "cell_type": "code",
   "execution_count": null,
   "metadata": {},
   "outputs": [],
   "source": [
    "# you can also use git push to delete a remote branch\n",
    "!git push --delete serverfix"
   ]
  },
  {
   "cell_type": "markdown",
   "metadata": {},
   "source": [
    "### Rebasing"
   ]
  },
  {
   "cell_type": "markdown",
   "metadata": {},
   "source": [
    "## Merging  \n",
    "`` $ git checkout experiment``  \n",
    "`` $ git merge master``  \n",
    "<img src=\"./images/git26.jpg\" alt=\"drawing\" width=\"800\" align=\"left\"/>  \n",
    "<img src=\"./images/git27.jpg\" alt=\"drawing\" width=\"800\" align=\"left\"/>  "
   ]
  },
  {
   "cell_type": "markdown",
   "metadata": {},
   "source": [
    "## Rebasing\n",
    "`` $ git checkout experiment``  \n",
    "`` $ git rebase master``  \n",
    "<img src=\"./images/git28.jpg\" alt=\"drawing\" width=\"800\" align=\"left\"/>\n",
    "<img src=\"./images/git29.jpg\" alt=\"drawing\" width=\"800\" align=\"left\"/>"
   ]
  },
  {
   "cell_type": "markdown",
   "metadata": {},
   "source": [
    "## Git and VSCode\n",
    "**Built-in Git support**  \n",
    "**Gitlens extension**"
   ]
  },
  {
   "cell_type": "markdown",
   "metadata": {},
   "source": [
    "# GitHub"
   ]
  },
  {
   "cell_type": "markdown",
   "metadata": {},
   "source": [
    "- **What is GitHub?**\n",
    "- **Create Account**\n",
    "- **Clone Repo**  \n",
    "- **Create Repo** \n",
    "    - Git operations on GitHub\n",
    "    - GitHub operations\n",
    "- **Fork Repo**\n"
   ]
  },
  {
   "cell_type": "code",
   "execution_count": null,
   "metadata": {},
   "outputs": [],
   "source": []
  },
  {
   "cell_type": "code",
   "execution_count": null,
   "metadata": {},
   "outputs": [],
   "source": []
  },
  {
   "cell_type": "code",
   "execution_count": null,
   "metadata": {},
   "outputs": [],
   "source": []
  }
 ],
 "metadata": {
  "interpreter": {
   "hash": "0cb999726ad25b24b4f63c8cd65441c9a90e6017a34bbf9633e7287fd8b6e217"
  },
  "kernelspec": {
   "display_name": "Python 3 (ipykernel)",
   "language": "python",
   "name": "python3"
  },
  "language_info": {
   "codemirror_mode": {
    "name": "ipython",
    "version": 3
   },
   "file_extension": ".py",
   "mimetype": "text/x-python",
   "name": "python",
   "nbconvert_exporter": "python",
   "pygments_lexer": "ipython3",
   "version": "3.9.7"
  }
 },
 "nbformat": 4,
 "nbformat_minor": 2
}
